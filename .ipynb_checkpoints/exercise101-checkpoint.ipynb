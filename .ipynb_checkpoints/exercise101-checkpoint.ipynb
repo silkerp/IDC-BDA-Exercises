{
 "cells": [
  {
   "cell_type": "code",
   "execution_count": 1,
   "metadata": {},
   "outputs": [
    {
     "name": "stdout",
     "output_type": "stream",
     "text": [
      "Ilan Kerpel\n",
      "Eilon Bar\n",
      "Yotam Shavit\n",
      "Orel Nir\n"
     ]
    }
   ],
   "source": [
    "print(\"Ilan Kerpel\")\n",
    "print(\"Eilon Bar\")\n",
    "print(\"Yotam Shavit\")\n",
    "print(\"Orel Nir\")"
   ]
  },
  {
   "cell_type": "code",
   "execution_count": null,
   "metadata": {},
   "outputs": [],
   "source": []
  }
 ],
 "metadata": {
  "kernelspec": {
   "display_name": "Python 3",
   "language": "python",
   "name": "python3"
  },
  "language_info": {
   "codemirror_mode": {
    "name": "ipython",
    "version": 3
   },
   "file_extension": ".py",
   "mimetype": "text/x-python",
   "name": "python",
   "nbconvert_exporter": "python",
   "pygments_lexer": "ipython3",
   "version": "3.7.0"
  }
 },
 "nbformat": 4,
 "nbformat_minor": 2
}
